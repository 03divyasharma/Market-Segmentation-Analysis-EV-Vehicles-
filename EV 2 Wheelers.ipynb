{
 "cells": [
  {
   "cell_type": "code",
   "execution_count": 46,
   "id": "ede0d8cb",
   "metadata": {},
   "outputs": [],
   "source": [
    "import pandas as pd\n",
    "import numpy as np\n",
    "import matplotlib.pyplot as plt\n",
    "import seaborn as sns\n",
    "from sklearn.preprocessing import MinMaxScaler\n",
    "import plotly.express as px"
   ]
  },
  {
   "cell_type": "markdown",
   "id": "b27cf964",
   "metadata": {},
   "source": [
    "# 1. Product dataset"
   ]
  },
  {
   "cell_type": "code",
   "execution_count": 2,
   "id": "995020bf",
   "metadata": {},
   "outputs": [
    {
     "data": {
      "text/html": [
       "<div>\n",
       "<style scoped>\n",
       "    .dataframe tbody tr th:only-of-type {\n",
       "        vertical-align: middle;\n",
       "    }\n",
       "\n",
       "    .dataframe tbody tr th {\n",
       "        vertical-align: top;\n",
       "    }\n",
       "\n",
       "    .dataframe thead th {\n",
       "        text-align: right;\n",
       "    }\n",
       "</style>\n",
       "<table border=\"1\" class=\"dataframe\">\n",
       "  <thead>\n",
       "    <tr style=\"text-align: right;\">\n",
       "      <th></th>\n",
       "      <th>Model Name</th>\n",
       "      <th>Price</th>\n",
       "      <th>Riding Range (km)</th>\n",
       "      <th>Top Speed (kmph)</th>\n",
       "      <th>Weight (kg)</th>\n",
       "      <th>Battery Charging Time (hrs)</th>\n",
       "      <th>Rated Power (W)</th>\n",
       "    </tr>\n",
       "  </thead>\n",
       "  <tbody>\n",
       "    <tr>\n",
       "      <th>0</th>\n",
       "      <td>Ampere Magnus EX</td>\n",
       "      <td>104758</td>\n",
       "      <td>121</td>\n",
       "      <td>53</td>\n",
       "      <td>90</td>\n",
       "      <td>7</td>\n",
       "      <td>1200</td>\n",
       "    </tr>\n",
       "    <tr>\n",
       "      <th>1</th>\n",
       "      <td>Ampere Magnus Pro</td>\n",
       "      <td>66053</td>\n",
       "      <td>45</td>\n",
       "      <td>25</td>\n",
       "      <td>94</td>\n",
       "      <td>10</td>\n",
       "      <td>250</td>\n",
       "    </tr>\n",
       "    <tr>\n",
       "      <th>2</th>\n",
       "      <td>Ampere REO</td>\n",
       "      <td>61993</td>\n",
       "      <td>45</td>\n",
       "      <td>25</td>\n",
       "      <td>88</td>\n",
       "      <td>10</td>\n",
       "      <td>250</td>\n",
       "    </tr>\n",
       "    <tr>\n",
       "      <th>3</th>\n",
       "      <td>Ampere Zeal</td>\n",
       "      <td>96544</td>\n",
       "      <td>120</td>\n",
       "      <td>53</td>\n",
       "      <td>80</td>\n",
       "      <td>7</td>\n",
       "      <td>1200</td>\n",
       "    </tr>\n",
       "    <tr>\n",
       "      <th>4</th>\n",
       "      <td>Ather 450X</td>\n",
       "      <td>135489</td>\n",
       "      <td>111</td>\n",
       "      <td>90</td>\n",
       "      <td>108</td>\n",
       "      <td>8</td>\n",
       "      <td>3000</td>\n",
       "    </tr>\n",
       "  </tbody>\n",
       "</table>\n",
       "</div>"
      ],
      "text/plain": [
       "          Model Name   Price  Riding Range (km)  Top Speed (kmph)  \\\n",
       "0   Ampere Magnus EX  104758                121                53   \n",
       "1  Ampere Magnus Pro   66053                 45                25   \n",
       "2         Ampere REO   61993                 45                25   \n",
       "3        Ampere Zeal   96544                120                53   \n",
       "4         Ather 450X  135489                111                90   \n",
       "\n",
       "   Weight (kg)  Battery Charging Time (hrs)  Rated Power (W)  \n",
       "0           90                            7             1200  \n",
       "1           94                           10              250  \n",
       "2           88                           10              250  \n",
       "3           80                            7             1200  \n",
       "4          108                            8             3000  "
      ]
     },
     "execution_count": 2,
     "metadata": {},
     "output_type": "execute_result"
    }
   ],
   "source": [
    "df=pd.read_csv(r'C:\\Users\\Dell\\Downloads\\archive (2)\\ev_model_spec.csv')\n",
    "df.head()"
   ]
  },
  {
   "cell_type": "code",
   "execution_count": 8,
   "id": "0f1370c9",
   "metadata": {
    "scrolled": true
   },
   "outputs": [
    {
     "name": "stdout",
     "output_type": "stream",
     "text": [
      "<class 'pandas.core.frame.DataFrame'>\n",
      "RangeIndex: 39 entries, 0 to 38\n",
      "Data columns (total 7 columns):\n",
      " #   Column                       Non-Null Count  Dtype \n",
      "---  ------                       --------------  ----- \n",
      " 0   Model Name                   39 non-null     object\n",
      " 1   Price                        39 non-null     int64 \n",
      " 2   Riding Range (km)            39 non-null     int64 \n",
      " 3   Top Speed (kmph)             39 non-null     int64 \n",
      " 4   Weight (kg)                  39 non-null     int64 \n",
      " 5   Battery Charging Time (hrs)  39 non-null     int64 \n",
      " 6   Rated Power (W)              39 non-null     int64 \n",
      "dtypes: int64(6), object(1)\n",
      "memory usage: 2.3+ KB\n"
     ]
    }
   ],
   "source": [
    "df.info()"
   ]
  },
  {
   "cell_type": "code",
   "execution_count": 33,
   "id": "87ee1296",
   "metadata": {},
   "outputs": [
    {
     "data": {
      "text/plain": [
       "Model Name                     0\n",
       "Price                          0\n",
       "Riding Range (km)              0\n",
       "Top Speed (kmph)               0\n",
       "Weight (kg)                    0\n",
       "Battery Charging Time (hrs)    0\n",
       "Rated Power (W)                0\n",
       "Score                          0\n",
       "dtype: int64"
      ]
     },
     "execution_count": 33,
     "metadata": {},
     "output_type": "execute_result"
    }
   ],
   "source": [
    "df.isnull().sum()"
   ]
  },
  {
   "cell_type": "markdown",
   "id": "49d370a9",
   "metadata": {},
   "source": [
    "Define Performance Criteria:\n",
    "\n",
    "Riding Range: Higher is better.\n",
    "\n",
    "Top Speed: Higher is better.\n",
    "\n",
    "Weight: Lower is better.\n",
    "\n",
    "Battery Charging Time: Lower is better.\n",
    "\n",
    "Rated Power: Depending on context, higher power might indicate better performance."
   ]
  },
  {
   "cell_type": "code",
   "execution_count": 3,
   "id": "dd60bced",
   "metadata": {},
   "outputs": [],
   "source": [
    "numcols=df.select_dtypes(include=['int64'])"
   ]
  },
  {
   "cell_type": "code",
   "execution_count": 4,
   "id": "90cf6792",
   "metadata": {},
   "outputs": [],
   "source": [
    "def scaling(dataframe,column):\n",
    "    normalizer=MinMaxScaler()\n",
    "    df_normalized=normalizer.fit_transform(dataframe[column.columns])\n",
    "    finald= pd.DataFrame(df_normalized, columns=column.columns)\n",
    "    return finald"
   ]
  },
  {
   "cell_type": "code",
   "execution_count": 5,
   "id": "f302befc",
   "metadata": {},
   "outputs": [
    {
     "data": {
      "text/html": [
       "<div>\n",
       "<style scoped>\n",
       "    .dataframe tbody tr th:only-of-type {\n",
       "        vertical-align: middle;\n",
       "    }\n",
       "\n",
       "    .dataframe tbody tr th {\n",
       "        vertical-align: top;\n",
       "    }\n",
       "\n",
       "    .dataframe thead th {\n",
       "        text-align: right;\n",
       "    }\n",
       "</style>\n",
       "<table border=\"1\" class=\"dataframe\">\n",
       "  <thead>\n",
       "    <tr style=\"text-align: right;\">\n",
       "      <th></th>\n",
       "      <th>Price</th>\n",
       "      <th>Riding Range (km)</th>\n",
       "      <th>Top Speed (kmph)</th>\n",
       "      <th>Weight (kg)</th>\n",
       "      <th>Battery Charging Time (hrs)</th>\n",
       "      <th>Rated Power (W)</th>\n",
       "    </tr>\n",
       "  </thead>\n",
       "  <tbody>\n",
       "    <tr>\n",
       "      <th>0</th>\n",
       "      <td>0.446619</td>\n",
       "      <td>0.562963</td>\n",
       "      <td>0.307692</td>\n",
       "      <td>0.340659</td>\n",
       "      <td>0.571429</td>\n",
       "      <td>0.180952</td>\n",
       "    </tr>\n",
       "    <tr>\n",
       "      <th>1</th>\n",
       "      <td>0.124496</td>\n",
       "      <td>0.000000</td>\n",
       "      <td>0.000000</td>\n",
       "      <td>0.384615</td>\n",
       "      <td>1.000000</td>\n",
       "      <td>0.000000</td>\n",
       "    </tr>\n",
       "    <tr>\n",
       "      <th>2</th>\n",
       "      <td>0.090707</td>\n",
       "      <td>0.000000</td>\n",
       "      <td>0.000000</td>\n",
       "      <td>0.318681</td>\n",
       "      <td>1.000000</td>\n",
       "      <td>0.000000</td>\n",
       "    </tr>\n",
       "    <tr>\n",
       "      <th>3</th>\n",
       "      <td>0.378258</td>\n",
       "      <td>0.555556</td>\n",
       "      <td>0.307692</td>\n",
       "      <td>0.230769</td>\n",
       "      <td>0.571429</td>\n",
       "      <td>0.180952</td>\n",
       "    </tr>\n",
       "    <tr>\n",
       "      <th>4</th>\n",
       "      <td>0.702379</td>\n",
       "      <td>0.488889</td>\n",
       "      <td>0.714286</td>\n",
       "      <td>0.538462</td>\n",
       "      <td>0.714286</td>\n",
       "      <td>0.523810</td>\n",
       "    </tr>\n",
       "    <tr>\n",
       "      <th>5</th>\n",
       "      <td>0.666650</td>\n",
       "      <td>0.333333</td>\n",
       "      <td>0.417582</td>\n",
       "      <td>0.813187</td>\n",
       "      <td>0.285714</td>\n",
       "      <td>0.676190</td>\n",
       "    </tr>\n",
       "    <tr>\n",
       "      <th>6</th>\n",
       "      <td>0.337669</td>\n",
       "      <td>0.555556</td>\n",
       "      <td>0.384615</td>\n",
       "      <td>0.076923</td>\n",
       "      <td>0.428571</td>\n",
       "      <td>0.428571</td>\n",
       "    </tr>\n",
       "    <tr>\n",
       "      <th>7</th>\n",
       "      <td>0.099080</td>\n",
       "      <td>0.185185</td>\n",
       "      <td>0.274725</td>\n",
       "      <td>0.439560</td>\n",
       "      <td>0.714286</td>\n",
       "      <td>0.104762</td>\n",
       "    </tr>\n",
       "    <tr>\n",
       "      <th>8</th>\n",
       "      <td>0.414553</td>\n",
       "      <td>0.296296</td>\n",
       "      <td>0.439560</td>\n",
       "      <td>0.384615</td>\n",
       "      <td>0.142857</td>\n",
       "      <td>0.238095</td>\n",
       "    </tr>\n",
       "    <tr>\n",
       "      <th>9</th>\n",
       "      <td>0.192908</td>\n",
       "      <td>0.111111</td>\n",
       "      <td>0.000000</td>\n",
       "      <td>0.087912</td>\n",
       "      <td>0.142857</td>\n",
       "      <td>0.000000</td>\n",
       "    </tr>\n",
       "  </tbody>\n",
       "</table>\n",
       "</div>"
      ],
      "text/plain": [
       "      Price  Riding Range (km)  Top Speed (kmph)  Weight (kg)  \\\n",
       "0  0.446619           0.562963          0.307692     0.340659   \n",
       "1  0.124496           0.000000          0.000000     0.384615   \n",
       "2  0.090707           0.000000          0.000000     0.318681   \n",
       "3  0.378258           0.555556          0.307692     0.230769   \n",
       "4  0.702379           0.488889          0.714286     0.538462   \n",
       "5  0.666650           0.333333          0.417582     0.813187   \n",
       "6  0.337669           0.555556          0.384615     0.076923   \n",
       "7  0.099080           0.185185          0.274725     0.439560   \n",
       "8  0.414553           0.296296          0.439560     0.384615   \n",
       "9  0.192908           0.111111          0.000000     0.087912   \n",
       "\n",
       "   Battery Charging Time (hrs)  Rated Power (W)  \n",
       "0                     0.571429         0.180952  \n",
       "1                     1.000000         0.000000  \n",
       "2                     1.000000         0.000000  \n",
       "3                     0.571429         0.180952  \n",
       "4                     0.714286         0.523810  \n",
       "5                     0.285714         0.676190  \n",
       "6                     0.428571         0.428571  \n",
       "7                     0.714286         0.104762  \n",
       "8                     0.142857         0.238095  \n",
       "9                     0.142857         0.000000  "
      ]
     },
     "execution_count": 5,
     "metadata": {},
     "output_type": "execute_result"
    }
   ],
   "source": [
    "scaledframe=scaling(df, numcols)\n",
    "scaledframe.head(10)"
   ]
  },
  {
   "cell_type": "code",
   "execution_count": 7,
   "id": "0854cfca",
   "metadata": {},
   "outputs": [
    {
     "data": {
      "image/png": "[encoded data removed]",
      "text/plain": [
       "<Figure size 432x288 with 2 Axes>"
      ]
     },
     "metadata": {
      "needs_background": "light"
     },
     "output_type": "display_data"
    }
   ],
   "source": [
    "corMat=scaledframe.corr()\n",
    "sns.heatmap(corMat, annot=True)\n",
    "plt.show()"
   ]
  },
  {
   "cell_type": "code",
   "execution_count": 15,
   "id": "d191caee",
   "metadata": {
    "scrolled": true
   },
   "outputs": [],
   "source": [
    "def weightedsum(weights, dataframe):\n",
    "    score = sum(weights[feature] * dataframe[feature] for feature in weights)\n",
    "\n",
    "    return score\n",
    "\n",
    "weights = {\n",
    "    'Riding Range (km)': 0.3,\n",
    "    'Top Speed (kmph)': 0.3,\n",
    "    'Weight (kg)': -0.2,  \n",
    "    'Battery Charging Time (hrs)': -0.2,  \n",
    "    'Rated Power (W)': 0.2\n",
    "}\n",
    "\n",
    "scaledframe['Score'] = weightedsum(weights,scaledframe)\n"
   ]
  },
  {
   "cell_type": "code",
   "execution_count": 16,
   "id": "b4dc51b1",
   "metadata": {},
   "outputs": [
    {
     "data": {
      "text/html": [
       "<div>\n",
       "<style scoped>\n",
       "    .dataframe tbody tr th:only-of-type {\n",
       "        vertical-align: middle;\n",
       "    }\n",
       "\n",
       "    .dataframe tbody tr th {\n",
       "        vertical-align: top;\n",
       "    }\n",
       "\n",
       "    .dataframe thead th {\n",
       "        text-align: right;\n",
       "    }\n",
       "</style>\n",
       "<table border=\"1\" class=\"dataframe\">\n",
       "  <thead>\n",
       "    <tr style=\"text-align: right;\">\n",
       "      <th></th>\n",
       "      <th>Price</th>\n",
       "      <th>Riding Range (km)</th>\n",
       "      <th>Top Speed (kmph)</th>\n",
       "      <th>Weight (kg)</th>\n",
       "      <th>Battery Charging Time (hrs)</th>\n",
       "      <th>Rated Power (W)</th>\n",
       "      <th>Score</th>\n",
       "    </tr>\n",
       "  </thead>\n",
       "  <tbody>\n",
       "    <tr>\n",
       "      <th>0</th>\n",
       "      <td>0.446619</td>\n",
       "      <td>0.562963</td>\n",
       "      <td>0.307692</td>\n",
       "      <td>0.340659</td>\n",
       "      <td>0.571429</td>\n",
       "      <td>0.180952</td>\n",
       "      <td>0.114969</td>\n",
       "    </tr>\n",
       "    <tr>\n",
       "      <th>1</th>\n",
       "      <td>0.124496</td>\n",
       "      <td>0.000000</td>\n",
       "      <td>0.000000</td>\n",
       "      <td>0.384615</td>\n",
       "      <td>1.000000</td>\n",
       "      <td>0.000000</td>\n",
       "      <td>-0.276923</td>\n",
       "    </tr>\n",
       "    <tr>\n",
       "      <th>2</th>\n",
       "      <td>0.090707</td>\n",
       "      <td>0.000000</td>\n",
       "      <td>0.000000</td>\n",
       "      <td>0.318681</td>\n",
       "      <td>1.000000</td>\n",
       "      <td>0.000000</td>\n",
       "      <td>-0.263736</td>\n",
       "    </tr>\n",
       "  </tbody>\n",
       "</table>\n",
       "</div>"
      ],
      "text/plain": [
       "      Price  Riding Range (km)  Top Speed (kmph)  Weight (kg)  \\\n",
       "0  0.446619           0.562963          0.307692     0.340659   \n",
       "1  0.124496           0.000000          0.000000     0.384615   \n",
       "2  0.090707           0.000000          0.000000     0.318681   \n",
       "\n",
       "   Battery Charging Time (hrs)  Rated Power (W)     Score  \n",
       "0                     0.571429         0.180952  0.114969  \n",
       "1                     1.000000         0.000000 -0.276923  \n",
       "2                     1.000000         0.000000 -0.263736  "
      ]
     },
     "execution_count": 16,
     "metadata": {},
     "output_type": "execute_result"
    }
   ],
   "source": [
    "scaledframe.head(3)"
   ]
  },
  {
   "cell_type": "code",
   "execution_count": 17,
   "id": "8c2ebb29",
   "metadata": {},
   "outputs": [],
   "source": [
    "scaledframe['Model Name'] = df['Model Name'].values"
   ]
  },
  {
   "cell_type": "code",
   "execution_count": 18,
   "id": "d557bacc",
   "metadata": {},
   "outputs": [
    {
     "data": {
      "text/html": [
       "<div>\n",
       "<style scoped>\n",
       "    .dataframe tbody tr th:only-of-type {\n",
       "        vertical-align: middle;\n",
       "    }\n",
       "\n",
       "    .dataframe tbody tr th {\n",
       "        vertical-align: top;\n",
       "    }\n",
       "\n",
       "    .dataframe thead th {\n",
       "        text-align: right;\n",
       "    }\n",
       "</style>\n",
       "<table border=\"1\" class=\"dataframe\">\n",
       "  <thead>\n",
       "    <tr style=\"text-align: right;\">\n",
       "      <th></th>\n",
       "      <th>Price</th>\n",
       "      <th>Riding Range (km)</th>\n",
       "      <th>Top Speed (kmph)</th>\n",
       "      <th>Weight (kg)</th>\n",
       "      <th>Battery Charging Time (hrs)</th>\n",
       "      <th>Rated Power (W)</th>\n",
       "      <th>Score</th>\n",
       "      <th>Model Name</th>\n",
       "    </tr>\n",
       "  </thead>\n",
       "  <tbody>\n",
       "    <tr>\n",
       "      <th>0</th>\n",
       "      <td>0.446619</td>\n",
       "      <td>0.562963</td>\n",
       "      <td>0.307692</td>\n",
       "      <td>0.340659</td>\n",
       "      <td>0.571429</td>\n",
       "      <td>0.180952</td>\n",
       "      <td>0.114969</td>\n",
       "      <td>Ampere Magnus EX</td>\n",
       "    </tr>\n",
       "    <tr>\n",
       "      <th>1</th>\n",
       "      <td>0.124496</td>\n",
       "      <td>0.000000</td>\n",
       "      <td>0.000000</td>\n",
       "      <td>0.384615</td>\n",
       "      <td>1.000000</td>\n",
       "      <td>0.000000</td>\n",
       "      <td>-0.276923</td>\n",
       "      <td>Ampere Magnus Pro</td>\n",
       "    </tr>\n",
       "    <tr>\n",
       "      <th>2</th>\n",
       "      <td>0.090707</td>\n",
       "      <td>0.000000</td>\n",
       "      <td>0.000000</td>\n",
       "      <td>0.318681</td>\n",
       "      <td>1.000000</td>\n",
       "      <td>0.000000</td>\n",
       "      <td>-0.263736</td>\n",
       "      <td>Ampere REO</td>\n",
       "    </tr>\n",
       "    <tr>\n",
       "      <th>3</th>\n",
       "      <td>0.378258</td>\n",
       "      <td>0.555556</td>\n",
       "      <td>0.307692</td>\n",
       "      <td>0.230769</td>\n",
       "      <td>0.571429</td>\n",
       "      <td>0.180952</td>\n",
       "      <td>0.134725</td>\n",
       "      <td>Ampere Zeal</td>\n",
       "    </tr>\n",
       "    <tr>\n",
       "      <th>4</th>\n",
       "      <td>0.702379</td>\n",
       "      <td>0.488889</td>\n",
       "      <td>0.714286</td>\n",
       "      <td>0.538462</td>\n",
       "      <td>0.714286</td>\n",
       "      <td>0.523810</td>\n",
       "      <td>0.215165</td>\n",
       "      <td>Ather 450X</td>\n",
       "    </tr>\n",
       "  </tbody>\n",
       "</table>\n",
       "</div>"
      ],
      "text/plain": [
       "      Price  Riding Range (km)  Top Speed (kmph)  Weight (kg)  \\\n",
       "0  0.446619           0.562963          0.307692     0.340659   \n",
       "1  0.124496           0.000000          0.000000     0.384615   \n",
       "2  0.090707           0.000000          0.000000     0.318681   \n",
       "3  0.378258           0.555556          0.307692     0.230769   \n",
       "4  0.702379           0.488889          0.714286     0.538462   \n",
       "\n",
       "   Battery Charging Time (hrs)  Rated Power (W)     Score         Model Name  \n",
       "0                     0.571429         0.180952  0.114969   Ampere Magnus EX  \n",
       "1                     1.000000         0.000000 -0.276923  Ampere Magnus Pro  \n",
       "2                     1.000000         0.000000 -0.263736         Ampere REO  \n",
       "3                     0.571429         0.180952  0.134725        Ampere Zeal  \n",
       "4                     0.714286         0.523810  0.215165         Ather 450X  "
      ]
     },
     "execution_count": 18,
     "metadata": {},
     "output_type": "execute_result"
    }
   ],
   "source": [
    "scaledframe.head(5)"
   ]
  },
  {
   "cell_type": "code",
   "execution_count": 20,
   "id": "7f8fa399",
   "metadata": {},
   "outputs": [],
   "source": [
    "best_model = scaledframe.loc[scaledframe['Score'].idxmax()]"
   ]
  },
  {
   "cell_type": "code",
   "execution_count": 21,
   "id": "cf920786",
   "metadata": {},
   "outputs": [
    {
     "data": {
      "text/plain": [
       "Price                             0.73849\n",
       "Riding Range (km)                0.925926\n",
       "Top Speed (kmph)                      1.0\n",
       "Weight (kg)                      0.725275\n",
       "Battery Charging Time (hrs)      0.571429\n",
       "Rated Power (W)                       1.0\n",
       "Score                            0.518437\n",
       "Model Name                     OLA S1 Pro\n",
       "Name: 29, dtype: object"
      ]
     },
     "execution_count": 21,
     "metadata": {},
     "output_type": "execute_result"
    }
   ],
   "source": [
    "best_model"
   ]
  },
  {
   "cell_type": "markdown",
   "id": "06be5e26",
   "metadata": {},
   "source": [
    "### Checking what difference occurs if correlated columns are dropped. \n"
   ]
  },
  {
   "cell_type": "code",
   "execution_count": 22,
   "id": "9a6eb761",
   "metadata": {
    "scrolled": true
   },
   "outputs": [
    {
     "data": {
      "text/html": [
       "<div>\n",
       "<style scoped>\n",
       "    .dataframe tbody tr th:only-of-type {\n",
       "        vertical-align: middle;\n",
       "    }\n",
       "\n",
       "    .dataframe tbody tr th {\n",
       "        vertical-align: top;\n",
       "    }\n",
       "\n",
       "    .dataframe thead th {\n",
       "        text-align: right;\n",
       "    }\n",
       "</style>\n",
       "<table border=\"1\" class=\"dataframe\">\n",
       "  <thead>\n",
       "    <tr style=\"text-align: right;\">\n",
       "      <th></th>\n",
       "      <th>Price</th>\n",
       "      <th>Riding Range (km)</th>\n",
       "      <th>Top Speed (kmph)</th>\n",
       "      <th>Weight (kg)</th>\n",
       "      <th>Battery Charging Time (hrs)</th>\n",
       "      <th>Rated Power (W)</th>\n",
       "      <th>Score</th>\n",
       "      <th>Model Name</th>\n",
       "    </tr>\n",
       "  </thead>\n",
       "  <tbody>\n",
       "    <tr>\n",
       "      <th>0</th>\n",
       "      <td>0.446619</td>\n",
       "      <td>0.562963</td>\n",
       "      <td>0.307692</td>\n",
       "      <td>0.340659</td>\n",
       "      <td>0.571429</td>\n",
       "      <td>0.180952</td>\n",
       "      <td>0.114969</td>\n",
       "      <td>Ampere Magnus EX</td>\n",
       "    </tr>\n",
       "    <tr>\n",
       "      <th>1</th>\n",
       "      <td>0.124496</td>\n",
       "      <td>0.000000</td>\n",
       "      <td>0.000000</td>\n",
       "      <td>0.384615</td>\n",
       "      <td>1.000000</td>\n",
       "      <td>0.000000</td>\n",
       "      <td>-0.276923</td>\n",
       "      <td>Ampere Magnus Pro</td>\n",
       "    </tr>\n",
       "    <tr>\n",
       "      <th>2</th>\n",
       "      <td>0.090707</td>\n",
       "      <td>0.000000</td>\n",
       "      <td>0.000000</td>\n",
       "      <td>0.318681</td>\n",
       "      <td>1.000000</td>\n",
       "      <td>0.000000</td>\n",
       "      <td>-0.263736</td>\n",
       "      <td>Ampere REO</td>\n",
       "    </tr>\n",
       "    <tr>\n",
       "      <th>3</th>\n",
       "      <td>0.378258</td>\n",
       "      <td>0.555556</td>\n",
       "      <td>0.307692</td>\n",
       "      <td>0.230769</td>\n",
       "      <td>0.571429</td>\n",
       "      <td>0.180952</td>\n",
       "      <td>0.134725</td>\n",
       "      <td>Ampere Zeal</td>\n",
       "    </tr>\n",
       "  </tbody>\n",
       "</table>\n",
       "</div>"
      ],
      "text/plain": [
       "      Price  Riding Range (km)  Top Speed (kmph)  Weight (kg)  \\\n",
       "0  0.446619           0.562963          0.307692     0.340659   \n",
       "1  0.124496           0.000000          0.000000     0.384615   \n",
       "2  0.090707           0.000000          0.000000     0.318681   \n",
       "3  0.378258           0.555556          0.307692     0.230769   \n",
       "\n",
       "   Battery Charging Time (hrs)  Rated Power (W)     Score         Model Name  \n",
       "0                     0.571429         0.180952  0.114969   Ampere Magnus EX  \n",
       "1                     1.000000         0.000000 -0.276923  Ampere Magnus Pro  \n",
       "2                     1.000000         0.000000 -0.263736         Ampere REO  \n",
       "3                     0.571429         0.180952  0.134725        Ampere Zeal  "
      ]
     },
     "execution_count": 22,
     "metadata": {},
     "output_type": "execute_result"
    }
   ],
   "source": [
    "##df1=scaledframe.copy()\n",
    "##df1.head(4)"
   ]
  },
  {
   "cell_type": "code",
   "execution_count": 23,
   "id": "b0e33784",
   "metadata": {},
   "outputs": [],
   "source": [
    "#upper = corMat.where(np.triu(np.ones(corMat.shape), k=1).astype(bool))\n",
    "#to_drop = [column for column in upper.columns if any(upper[column] > 0.90)] \n",
    "#df1.drop(to_drop, axis=1, inplace=True)"
   ]
  },
  {
   "cell_type": "code",
   "execution_count": 24,
   "id": "251c86cf",
   "metadata": {},
   "outputs": [
    {
     "data": {
      "text/html": [
       "<div>\n",
       "<style scoped>\n",
       "    .dataframe tbody tr th:only-of-type {\n",
       "        vertical-align: middle;\n",
       "    }\n",
       "\n",
       "    .dataframe tbody tr th {\n",
       "        vertical-align: top;\n",
       "    }\n",
       "\n",
       "    .dataframe thead th {\n",
       "        text-align: right;\n",
       "    }\n",
       "</style>\n",
       "<table border=\"1\" class=\"dataframe\">\n",
       "  <thead>\n",
       "    <tr style=\"text-align: right;\">\n",
       "      <th></th>\n",
       "      <th>Price</th>\n",
       "      <th>Riding Range (km)</th>\n",
       "      <th>Top Speed (kmph)</th>\n",
       "      <th>Weight (kg)</th>\n",
       "      <th>Battery Charging Time (hrs)</th>\n",
       "      <th>Score</th>\n",
       "      <th>Model Name</th>\n",
       "    </tr>\n",
       "  </thead>\n",
       "  <tbody>\n",
       "    <tr>\n",
       "      <th>0</th>\n",
       "      <td>0.446619</td>\n",
       "      <td>0.562963</td>\n",
       "      <td>0.307692</td>\n",
       "      <td>0.340659</td>\n",
       "      <td>0.571429</td>\n",
       "      <td>0.114969</td>\n",
       "      <td>Ampere Magnus EX</td>\n",
       "    </tr>\n",
       "    <tr>\n",
       "      <th>1</th>\n",
       "      <td>0.124496</td>\n",
       "      <td>0.000000</td>\n",
       "      <td>0.000000</td>\n",
       "      <td>0.384615</td>\n",
       "      <td>1.000000</td>\n",
       "      <td>-0.276923</td>\n",
       "      <td>Ampere Magnus Pro</td>\n",
       "    </tr>\n",
       "    <tr>\n",
       "      <th>2</th>\n",
       "      <td>0.090707</td>\n",
       "      <td>0.000000</td>\n",
       "      <td>0.000000</td>\n",
       "      <td>0.318681</td>\n",
       "      <td>1.000000</td>\n",
       "      <td>-0.263736</td>\n",
       "      <td>Ampere REO</td>\n",
       "    </tr>\n",
       "    <tr>\n",
       "      <th>3</th>\n",
       "      <td>0.378258</td>\n",
       "      <td>0.555556</td>\n",
       "      <td>0.307692</td>\n",
       "      <td>0.230769</td>\n",
       "      <td>0.571429</td>\n",
       "      <td>0.134725</td>\n",
       "      <td>Ampere Zeal</td>\n",
       "    </tr>\n",
       "  </tbody>\n",
       "</table>\n",
       "</div>"
      ],
      "text/plain": [
       "      Price  Riding Range (km)  Top Speed (kmph)  Weight (kg)  \\\n",
       "0  0.446619           0.562963          0.307692     0.340659   \n",
       "1  0.124496           0.000000          0.000000     0.384615   \n",
       "2  0.090707           0.000000          0.000000     0.318681   \n",
       "3  0.378258           0.555556          0.307692     0.230769   \n",
       "\n",
       "   Battery Charging Time (hrs)     Score         Model Name  \n",
       "0                     0.571429  0.114969   Ampere Magnus EX  \n",
       "1                     1.000000 -0.276923  Ampere Magnus Pro  \n",
       "2                     1.000000 -0.263736         Ampere REO  \n",
       "3                     0.571429  0.134725        Ampere Zeal  "
      ]
     },
     "execution_count": 24,
     "metadata": {},
     "output_type": "execute_result"
    }
   ],
   "source": [
    "#df1.head(4)"
   ]
  },
  {
   "cell_type": "code",
   "execution_count": 25,
   "id": "29c0f4fb",
   "metadata": {},
   "outputs": [],
   "source": [
    "#df1=df1.drop(columns='Score', axis=1)"
   ]
  },
  {
   "cell_type": "code",
   "execution_count": 26,
   "id": "04e9b1be",
   "metadata": {
    "scrolled": false
   },
   "outputs": [
    {
     "data": {
      "text/html": [
       "<div>\n",
       "<style scoped>\n",
       "    .dataframe tbody tr th:only-of-type {\n",
       "        vertical-align: middle;\n",
       "    }\n",
       "\n",
       "    .dataframe tbody tr th {\n",
       "        vertical-align: top;\n",
       "    }\n",
       "\n",
       "    .dataframe thead th {\n",
       "        text-align: right;\n",
       "    }\n",
       "</style>\n",
       "<table border=\"1\" class=\"dataframe\">\n",
       "  <thead>\n",
       "    <tr style=\"text-align: right;\">\n",
       "      <th></th>\n",
       "      <th>Price</th>\n",
       "      <th>Riding Range (km)</th>\n",
       "      <th>Top Speed (kmph)</th>\n",
       "      <th>Weight (kg)</th>\n",
       "      <th>Battery Charging Time (hrs)</th>\n",
       "      <th>Model Name</th>\n",
       "    </tr>\n",
       "  </thead>\n",
       "  <tbody>\n",
       "    <tr>\n",
       "      <th>0</th>\n",
       "      <td>0.446619</td>\n",
       "      <td>0.562963</td>\n",
       "      <td>0.307692</td>\n",
       "      <td>0.340659</td>\n",
       "      <td>0.571429</td>\n",
       "      <td>Ampere Magnus EX</td>\n",
       "    </tr>\n",
       "    <tr>\n",
       "      <th>1</th>\n",
       "      <td>0.124496</td>\n",
       "      <td>0.000000</td>\n",
       "      <td>0.000000</td>\n",
       "      <td>0.384615</td>\n",
       "      <td>1.000000</td>\n",
       "      <td>Ampere Magnus Pro</td>\n",
       "    </tr>\n",
       "    <tr>\n",
       "      <th>2</th>\n",
       "      <td>0.090707</td>\n",
       "      <td>0.000000</td>\n",
       "      <td>0.000000</td>\n",
       "      <td>0.318681</td>\n",
       "      <td>1.000000</td>\n",
       "      <td>Ampere REO</td>\n",
       "    </tr>\n",
       "  </tbody>\n",
       "</table>\n",
       "</div>"
      ],
      "text/plain": [
       "      Price  Riding Range (km)  Top Speed (kmph)  Weight (kg)  \\\n",
       "0  0.446619           0.562963          0.307692     0.340659   \n",
       "1  0.124496           0.000000          0.000000     0.384615   \n",
       "2  0.090707           0.000000          0.000000     0.318681   \n",
       "\n",
       "   Battery Charging Time (hrs)         Model Name  \n",
       "0                     0.571429   Ampere Magnus EX  \n",
       "1                     1.000000  Ampere Magnus Pro  \n",
       "2                     1.000000         Ampere REO  "
      ]
     },
     "execution_count": 26,
     "metadata": {},
     "output_type": "execute_result"
    }
   ],
   "source": [
    "#df1.head(3)"
   ]
  },
  {
   "cell_type": "code",
   "execution_count": 27,
   "id": "83fc3db7",
   "metadata": {},
   "outputs": [],
   "source": [
    "#weights1= {\n",
    "    #'Riding Range (km)': 0.3,\n",
    "    #'Top Speed (kmph)': 0.3,\n",
    "    #'Weight (kg)': -0.2,  \n",
    "    #'Battery Charging Time (hrs)': -0.2,  \n",
    "#}\n",
    "#df1['Score']=weightedsum(weights1, df1)"
   ]
  },
  {
   "cell_type": "code",
   "execution_count": 31,
   "id": "c14a0979",
   "metadata": {},
   "outputs": [],
   "source": [
    "#best_model1 = df1.loc[df1['Score'].idxmax()]"
   ]
  },
  {
   "cell_type": "code",
   "execution_count": 32,
   "id": "1acdfdca",
   "metadata": {},
   "outputs": [
    {
     "data": {
      "text/plain": [
       "Price                             0.73849\n",
       "Riding Range (km)                0.925926\n",
       "Top Speed (kmph)                      1.0\n",
       "Weight (kg)                      0.725275\n",
       "Battery Charging Time (hrs)      0.571429\n",
       "Model Name                     OLA S1 Pro\n",
       "Score                            0.318437\n",
       "Name: 29, dtype: object"
      ]
     },
     "execution_count": 32,
     "metadata": {},
     "output_type": "execute_result"
    }
   ],
   "source": [
    "#best_model1"
   ]
  },
  {
   "cell_type": "markdown",
   "id": "77e48edd",
   "metadata": {},
   "source": [
    "### Same results even after dropping correlated columns. "
   ]
  },
  {
   "cell_type": "markdown",
   "id": "50b7b1ea",
   "metadata": {},
   "source": [
    "## *Result* : Best model name- OLA S1 PRO"
   ]
  }
 ],
 "metadata": {
  "kernelspec": {
   "display_name": "Python 3 (ipykernel)",
   "language": "python",
   "name": "python3"
  },
  "language_info": {
   "codemirror_mode": {
    "name": "ipython",
    "version": 3
   },
   "file_extension": ".py",
   "mimetype": "text/x-python",
   "name": "python",
   "nbconvert_exporter": "python",
   "pygments_lexer": "ipython3",
   "version": "3.9.12"
  }
 },
 "nbformat": 4,
 "nbformat_minor": 5
}
